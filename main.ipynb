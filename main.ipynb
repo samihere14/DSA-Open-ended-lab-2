{
  "cells": [
    {
      "cell_type": "code",
      "execution_count": 23,
      "metadata": {
        "colab": {
          "base_uri": "https://localhost:8080/"
        },
        "id": "SfNJkqfpxYZS",
        "outputId": "c5689063-98fd-4150-e106-62a88a23de42"
      },
      "outputs": [
        {
          "output_type": "stream",
          "name": "stdout",
          "text": [
            "Enter the word aabb\n",
            "Enter the word : app app word word\n",
            "Output: true\n"
          ]
        }
      ],
      "source": [
        "def follows_pattern(pattern, s):\n",
        "\n",
        "    words = s.split()\n",
        "\n",
        "\n",
        "    if len(words) != len(pattern):\n",
        "        return False\n",
        "\n",
        "    # Create two dictionaries to track the mappings\n",
        "    char_to_word = {}\n",
        "    word_to_char = {}\n",
        "\n",
        "    # Iterate through the pattern and the words simultaneously\n",
        "    for char, word in zip(pattern, words):\n",
        "\n",
        "        if char in char_to_word:\n",
        "            if char_to_word[char] != word:\n",
        "                return False\n",
        "        else:\n",
        "            char_to_word[char] = word\n",
        "\n",
        "        # Check for existing word-to-character mapping\n",
        "        if word in word_to_char:\n",
        "            if word_to_char[word] != char:\n",
        "                return False\n",
        "        else:\n",
        "            word_to_char[word] = char\n",
        "\n",
        "    #return True\n",
        "    return True\n",
        "\n",
        "\n",
        "\n",
        "\n",
        "pattern = input(\"Enter the word \").strip()\n",
        "\n",
        "# Take user input for the string\n",
        "s = input(\"Enter the word : \").strip()\n",
        "\n",
        "# Call the function and display the result\n",
        "if follows_pattern(pattern, s):\n",
        "    print(\"Output: true\")\n",
        "else:\n",
        "    print(\"Output: false\")\n"
      ]
    },
    {
      "cell_type": "code",
      "source": [
        "def follows_pattern(pattern, s):\n",
        "\n",
        "    words = s.split()\n",
        "\n",
        "\n",
        "    if len(words) != len(pattern):\n",
        "        return False\n",
        "\n",
        "    # Create two dictionaries to track the mappings\n",
        "    char_to_word = {}\n",
        "    word_to_char = {}\n",
        "\n",
        "    # Iterate through the pattern and the words simultaneously\n",
        "    for char, word in zip(pattern, words):\n",
        "\n",
        "        if char in char_to_word:\n",
        "            if char_to_word[char] != word:\n",
        "                return False\n",
        "        else:\n",
        "            char_to_word[char] = word\n",
        "\n",
        "        # Check for existing word-to-character mapping\n",
        "        if word in word_to_char:\n",
        "            if word_to_char[word] != char:\n",
        "                return False\n",
        "        else:\n",
        "            word_to_char[word] = char\n",
        "\n",
        "    #return True\n",
        "    return True\n",
        "\n",
        "\n",
        "\n",
        "\n",
        "pattern = input(\"Enter the word \").strip()\n",
        "\n",
        "# Take user input for the string\n",
        "s = input(\"Enter the word : \").strip()\n",
        "\n",
        "# Call the function and display the result\n",
        "if follows_pattern(pattern, s):\n",
        "    print(\"Output: true\")\n",
        "else:\n",
        "    print(\"Output: false\")\n",
        "\n"
      ],
      "metadata": {
        "colab": {
          "base_uri": "https://localhost:8080/"
        },
        "id": "4T9pjUTy-3JW",
        "outputId": "1ab481ae-cce5-4f72-c069-f2b1b7e15271"
      },
      "execution_count": 24,
      "outputs": [
        {
          "output_type": "stream",
          "name": "stdout",
          "text": [
            "Enter the word absd\n",
            "Enter the word : app app bst bst\n",
            "Output: false\n"
          ]
        }
      ]
    },
    {
      "cell_type": "code",
      "source": [],
      "metadata": {
        "id": "RBeRjDtR-9oV"
      },
      "execution_count": null,
      "outputs": []
    }
  ],
  "metadata": {
    "kernelspec": {
      "display_name": "Python 3",
      "language": "python",
      "name": "python3"
    },
    "language_info": {
      "name": "python",
      "version": "3.13.1"
    },
    "colab": {
      "provenance": []
    }
  },
  "nbformat": 4,
  "nbformat_minor": 0
}